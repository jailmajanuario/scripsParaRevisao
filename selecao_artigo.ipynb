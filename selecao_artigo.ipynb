{
 "cells": [
  {
   "cell_type": "code",
   "execution_count": 1,
   "metadata": {},
   "outputs": [
    {
     "name": "stdout",
     "output_type": "stream",
     "text": [
      "dict_keys(['Selection_Criteria', 'Papers_IEEE', 'Papers_Scopus', 'Papers_SpringerLink', 'Papers_ACM', 'Papers_ScienceDirect', 'Relevant_Papers', 'Options', 'Duplicates'])\n"
     ]
    }
   ],
   "source": [
    "import pandas as pd\n",
    "\n",
    "primary_studies = 'primary-studies.xlsx'\n",
    "\n",
    "todas_as_abas = pd.read_excel(primary_studies, sheet_name=None)\n",
    "\n",
    "print(todas_as_abas.keys())\n",
    "dff=todas_as_abas['Papers_ACM']\n"
   ]
  },
  {
   "cell_type": "code",
   "execution_count": 2,
   "metadata": {},
   "outputs": [],
   "source": [
    "def process_base(base):\n",
    "    if base == 'Papers_ACM':\n",
    "        novos_nomes_colunas = dff.iloc[0]\n",
    "        dff.columns = novos_nomes_colunas\n",
    "        df_=dff.drop(0)\n",
    "        df_ = df_.dropna(how='all')\n",
    "        df_=df_.drop(77)\n",
    "        return df_\n"
   ]
  },
  {
   "cell_type": "code",
   "execution_count": 10,
   "metadata": {},
   "outputs": [],
   "source": [
    "#processo verificação ACM\n",
    "\n",
    "acm_df = pd.read_csv('Doc/acm.csv')\n",
    "titulos=[]\n",
    "for t in acm_df['Title']:\n",
    "    titulos.append(t)\n",
    "df_=process_base('Papers_ACM')\n",
    "t_acm=[]\n",
    "for title in df_['title'] :\n",
    "        t_acm.append(title)\n",
    "l_iguais=[]\n",
    "for i in titulos:\n",
    "    if i in t_acm:\n",
    "        l_iguais.append(i)\n",
    "    else:\n",
    "        print(i)"
   ]
  },
  {
   "cell_type": "code",
   "execution_count": 55,
   "metadata": {},
   "outputs": [
    {
     "name": "stdout",
     "output_type": "stream",
     "text": [
      "An Entity Embeddings Deep Learning Approach for Demand Forecast of Highly Differentiated Products\n",
      "Automated model-based performance analysis of software product lines under uncertainty\n",
      "Learning input-aware performance models of configurable systems: An empirical evaluation\n",
      "Leveraging a combination of machine learning and formal concept analysis to locate the implementation of features in software variants\n",
      "An extensible framework for software configuration optimization on heterogeneous computing systems: Time and energy case study\n",
      "Learning software configuration spaces: A systematic literature review\n"
     ]
    }
   ],
   "source": [
    "#verificação ScienceDirect\n",
    "scienc_df = pd.read_csv('Doc/science.csv')\n",
    "dff=todas_as_abas['Papers_ScienceDirect']\n",
    "novos_nomes_colunas = dff.iloc[0]\n",
    "dff.columns = novos_nomes_colunas\n",
    "df_=dff.drop(0)\n",
    "df_ = df_.dropna(how='all')\n",
    "\n",
    "titulos=[]\n",
    "for entry in scienc_df['Title']:\n",
    "    titulos.append(entry)\n",
    "\n",
    "list_scienc=[]\n",
    "for title in df_['title'] :\n",
    "        list_scienc.append(title)\n",
    "\n",
    "l_iguais=[]\n",
    "for i in titulos:\n",
    "    if i in list_scienc:\n",
    "        l_iguais.append(i)\n",
    "    else:\n",
    "        print(i)"
   ]
  },
  {
   "cell_type": "markdown",
   "metadata": {},
   "source": [
    "String de busca atualizada para IEEE:\n",
    "\n",
    "(\"Abstract\":\"product line\" OR \"Abstract\":\"configurable system\" OR \"Abstract\":\"software configurations\") AND (\"Abstract\":\"machine learning\" OR \"Abstract\":\"performance model\" OR \"Abstract\":\"performance prediction\")\n"
   ]
  },
  {
   "cell_type": "code",
   "execution_count": 15,
   "metadata": {},
   "outputs": [
    {
     "data": {
      "text/plain": [
       "Index(['Database', 'cite', 'author', 'title', 'acronym', 'booktitle', 'pages',\n",
       "       'Start Page', 'End Page', '#', 'year', 'publisher', 'doi', 'Link',\n",
       "       'IC1', 'IC2', 'IC3', 'EC1', 'EC2', 'EC3', 'Selected', 'Note'],\n",
       "      dtype='object', name=0)"
      ]
     },
     "execution_count": 15,
     "metadata": {},
     "output_type": "execute_result"
    }
   ],
   "source": [
    "column_names = dff.columns\n",
    "column_names"
   ]
  },
  {
   "cell_type": "code",
   "execution_count": 16,
   "metadata": {},
   "outputs": [
    {
     "data": {
      "text/plain": [
       "Index(['Document Title', 'Authors', 'Author Affiliations', 'Publication Title',\n",
       "       'Date Added To Xplore', 'Publication Year', 'Volume', 'Issue',\n",
       "       'Start Page', 'End Page', 'Abstract', 'Unnamed: 11', 'ISSN', 'ISBNs',\n",
       "       'DOI', 'Funding Information', 'PDF Link', 'Author Keywords',\n",
       "       'IEEE Terms', 'Mesh_Terms', 'Article Citation Count',\n",
       "       'Patent Citation Count', 'Reference Count', 'License', 'Online Date',\n",
       "       'Issue Date', 'Meeting Date', 'Publisher', 'Document Identifier',\n",
       "       'Unnamed: 29', 'Unnamed: 30', 'Unnamed: 31', 'Unnamed: 32',\n",
       "       'Unnamed: 33', 'Unnamed: 34', 'Unnamed: 35', 'Unnamed: 36',\n",
       "       'Unnamed: 37', 'Unnamed: 38', 'Unnamed: 39', 'Unnamed: 40'],\n",
       "      dtype='object')"
      ]
     },
     "execution_count": 16,
     "metadata": {},
     "output_type": "execute_result"
    }
   ],
   "source": [
    "names_ieee = ieee_df.columns\n",
    "names_ieee "
   ]
  },
  {
   "cell_type": "code",
   "execution_count": null,
   "metadata": {},
   "outputs": [],
   "source": []
  },
  {
   "cell_type": "code",
   "execution_count": 45,
   "metadata": {},
   "outputs": [],
   "source": [
    "#verificação IEEEs\n",
    "ieee_df = pd.read_csv('Doc/IEEE.csv')\n",
    "\n",
    "dff=todas_as_abas['Papers_IEEE']\n",
    "novos_nomes_colunas = dff.iloc[0]\n",
    "dff.columns = novos_nomes_colunas\n",
    "df_=dff.drop(0)\n",
    "df_ = df_.dropna(how='all')\n",
    "\n",
    "list_ieee=[]\n",
    "for title in df_['title']:\n",
    "        list_ieee.append(title)\n",
    "#documentos que estão na nova busca\n",
    "titulos=[]\n",
    "for entry in ieee_df['Document Title']:\n",
    "    titulos.append(entry)\n",
    "\n",
    "l_iguais=[]\n",
    "\n",
    "new_articles = []\n",
    "for index, row in ieee_df.iterrows():\n",
    "    if row['Document Title'] not in list_ieee:\n",
    "        new_articles.append({\n",
    "            'author': row['Authors'],\n",
    "            'title': row['Document Title'],\n",
    "            'booktitle': row['Issue'],\n",
    "            'year': row['Publication Year'],\n",
    "            'publisher': 'IEEE',\n",
    "            'doi': row['DOI']\n",
    "        })\n",
    "        \n",
    "new_articles_df = pd.DataFrame(new_articles)\n",
    "#print(new_articles_df)\n",
    "new_articles_df.to_csv('new_ieee.csv', index=False)"
   ]
  },
  {
   "cell_type": "code",
   "execution_count": 31,
   "metadata": {},
   "outputs": [],
   "source": [
    "#verificação springer\n",
    "springer_df = pd.read_csv('Doc/Springer.csv')"
   ]
  },
  {
   "cell_type": "code",
   "execution_count": 34,
   "metadata": {},
   "outputs": [
    {
     "data": {
      "text/plain": [
       "Index(['Item Title', 'Publication Title', 'Book Series Title',\n",
       "       'Journal Volume', 'Journal Issue', 'Item DOI', 'Authors',\n",
       "       'Publication Year', 'URL', 'Content Type'],\n",
       "      dtype='object')"
      ]
     },
     "execution_count": 34,
     "metadata": {},
     "output_type": "execute_result"
    }
   ],
   "source": [
    "names_springer = springer_df.columns\n",
    "names_springer "
   ]
  },
  {
   "cell_type": "code",
   "execution_count": 32,
   "metadata": {},
   "outputs": [
    {
     "data": {
      "text/plain": [
       "224"
      ]
     },
     "execution_count": 32,
     "metadata": {},
     "output_type": "execute_result"
    }
   ],
   "source": [
    "len(springer_df)"
   ]
  },
  {
   "cell_type": "code",
   "execution_count": 27,
   "metadata": {},
   "outputs": [],
   "source": [
    "#springer_df\n",
    "dff=todas_as_abas['Papers_SpringerLink']\n",
    "novos_nomes_colunas = dff.iloc[0]\n",
    "dff.columns = novos_nomes_colunas\n",
    "df_=dff.drop(0)\n",
    "df_ = df_.dropna(how='all')"
   ]
  },
  {
   "cell_type": "code",
   "execution_count": 28,
   "metadata": {},
   "outputs": [
    {
     "data": {
      "text/plain": [
       "187"
      ]
     },
     "execution_count": 28,
     "metadata": {},
     "output_type": "execute_result"
    }
   ],
   "source": [
    "len(df_)"
   ]
  },
  {
   "cell_type": "code",
   "execution_count": 36,
   "metadata": {},
   "outputs": [],
   "source": [
    "titulos=[]\n",
    "for entry in springer_df['Item Title']:\n",
    "    titulos.append(entry)\n",
    "\n",
    "#df_=process_base('Papers_ScienceDirect')\n",
    "t_springer=[]\n",
    "for title in df_['title'] :\n",
    "        t_springer.append(title)\n",
    "l_iguais=[]\n",
    "#l_diff=[]\n",
    "new_articles = []\n",
    "for index, row in springer_df.iterrows():\n",
    "    if row['Item Title'] not in t_springer:\n",
    "        new_articles.append({\n",
    "            'author': row['Authors'],\n",
    "            'title': row['Item Title'],\n",
    "            'booktitle': row['Publication Title'],\n",
    "            'year': row['Publication Year'],\n",
    "            #'publisher': 'IEEE',\n",
    "            'doi': row['Item DOI'],\n",
    "            'URL':row['URL']\n",
    "        })\n",
    "new_articles_df = pd.DataFrame(new_articles)\n",
    "new_articles_df.to_csv('new_springer.csv', index=False)"
   ]
  },
  {
   "cell_type": "code",
   "execution_count": 34,
   "metadata": {},
   "outputs": [
    {
     "name": "stdout",
     "output_type": "stream",
     "text": [
      "Smoke testing for machine learning: Yesple tests to discover severe bugs\n",
      "An efficient system for customer churn prediction through particle swarm optimization based feature selection model with Yesulated annealing\n",
      "Efficient model Yesilarity estimation with robust hashing\n"
     ]
    }
   ],
   "source": [
    "#verficar quais faltaram retornar\n",
    "t_springer\n",
    "\n",
    "l_iguais_verifica=[]\n",
    "#l_diff=[]\n",
    "for i in t_springer:\n",
    "    if i in l_iguais:\n",
    "        l_iguais_verifica.append(i)\n",
    "    else:\n",
    "        #nome que está na planilha de estudos primários, diferente do que baixei\n",
    "        print(i)"
   ]
  },
  {
   "cell_type": "markdown",
   "metadata": {},
   "source": [
    "verificar artigos duplicados"
   ]
  },
  {
   "cell_type": "code",
   "execution_count": 2,
   "metadata": {},
   "outputs": [
    {
     "name": "stdout",
     "output_type": "stream",
     "text": [
      "dict_keys(['Selection_Criteria', 'Papers_IEEE', 'Papers_Scopus', 'Papers_SpringerLink', 'Papers_ACM', 'Papers_ScienceDirect', 'Relevant_Papers', 'Options', 'Related_Works', 'Duplicates'])\n"
     ]
    }
   ],
   "source": [
    "import pandas as pd\n",
    "\n",
    "primary_studies = 'primary-studies (3).xlsx'\n",
    "\n",
    "todas_as_abas = pd.read_excel(primary_studies, sheet_name=None)\n",
    "\n",
    "print(todas_as_abas.keys())"
   ]
  },
  {
   "cell_type": "code",
   "execution_count": 3,
   "metadata": {},
   "outputs": [],
   "source": [
    "dff=todas_as_abas['Papers_IEEE']"
   ]
  },
  {
   "cell_type": "code",
   "execution_count": 42,
   "metadata": {},
   "outputs": [],
   "source": [
    "primary_studies = 'primary-studies (3).xlsx'\n",
    "\n",
    "todas_as_abas = pd.read_excel(primary_studies, sheet_name=None)\n"
   ]
  },
  {
   "cell_type": "code",
   "execution_count": 44,
   "metadata": {},
   "outputs": [],
   "source": [
    "dff=todas_as_abas['Papers_IEEE']"
   ]
  },
  {
   "cell_type": "code",
   "execution_count": null,
   "metadata": {},
   "outputs": [],
   "source": [
    "dff"
   ]
  },
  {
   "cell_type": "code",
   "execution_count": null,
   "metadata": {},
   "outputs": [],
   "source": [
    "primary_studies = 'primary-studies (3).xlsx'\n",
    "\n",
    "todas_as_abas = pd.read_excel(primary_studies, sheet_name=None)\n",
    "\n",
    "dff=todas_as_abas['Papers_IEEE']\n",
    "novos_nomes_colunas = dff.iloc[0]\n",
    "dff.columns = novos_nomes_colunas\n",
    "df_=dff.drop(0)\n",
    "df_ = df_.dropna(how='all')\n"
   ]
  },
  {
   "cell_type": "code",
   "execution_count": 27,
   "metadata": {},
   "outputs": [],
   "source": []
  },
  {
   "cell_type": "code",
   "execution_count": 123,
   "metadata": {},
   "outputs": [],
   "source": [
    "def identificar_titulos_duplicados(todas_as_abas):\n",
    "    ocorrencias_titulos = {}\n",
    "    duplicatas = []\n",
    "    for nome_aba, df in todas_as_abas.items():\n",
    "            if nome_aba == 'Papers_IEEE'or nome_aba == 'Papers_Scopus' or nome_aba =='Papers_SpringerLink'or nome_aba == 'Papers_ACM' or nome_aba =='Papers_ScienceDirect':\n",
    "                novos_nomes_colunas = df.iloc[0]\n",
    "                df.columns = novos_nomes_colunas\n",
    "                df = df.drop(0)\n",
    "                df = df.dropna(how='all')\n",
    "                for titulo in df['title']:\n",
    "                    if titulo in ocorrencias_titulos:\n",
    "                            if titulo not in duplicatas:\n",
    "                                duplicatas.append({\n",
    "                                    'titulo': titulo,\n",
    "                                    'primeira_ocorrencia': ocorrencias_titulos[titulo],\n",
    "                                    'encontrado_em': nome_aba\n",
    "                                })\n",
    "                           \n",
    "                    else:\n",
    "                            ocorrencias_titulos[titulo] = nome_aba\n",
    "                            \n",
    "    return duplicatas#ocorrencias_titulos#\n",
    "\n",
    "       "
   ]
  },
  {
   "cell_type": "code",
   "execution_count": 124,
   "metadata": {},
   "outputs": [
    {
     "data": {
      "text/plain": [
       "38"
      ]
     },
     "execution_count": 124,
     "metadata": {},
     "output_type": "execute_result"
    }
   ],
   "source": [
    "duplicatas = identificar_titulos_duplicados(todas_as_abas)\n",
    "#for d in duplicatas:\n",
    "    #print(f\"Título: {d['titulo']}, Primeira ocorrência: {d['primeira_ocorrencia']}, Encontrado em: {d['encontrado_em']}\")\n",
    "len(duplicatas)"
   ]
  },
  {
   "cell_type": "code",
   "execution_count": 34,
   "metadata": {},
   "outputs": [
    {
     "name": "stdout",
     "output_type": "stream",
     "text": [
      "Duplicatas salvas em /home/jailma/Área de Trabalho/Doc/artigos_duplicados.csv\n"
     ]
    }
   ],
   "source": [
    "df_duplicatas = pd.DataFrame(duplicatas)\n",
    "\n",
    "# Salva o DataFrame em um arquivo CSV\n",
    "output_csv = 'artigos_duplicados.csv'\n",
    "df_duplicatas.to_csv(output_csv, index=False)\n",
    "\n",
    "print(f\"Duplicatas salvas em {output_csv}\")"
   ]
  },
  {
   "cell_type": "code",
   "execution_count": 47,
   "metadata": {},
   "outputs": [],
   "source": [
    "primary_studies = 'primary-studies (3).xlsx'\n",
    "\n",
    "todas_as_abas = pd.read_excel(primary_studies, sheet_name=None)\n",
    "\n"
   ]
  },
  {
   "cell_type": "code",
   "execution_count": null,
   "metadata": {},
   "outputs": [],
   "source": []
  },
  {
   "cell_type": "code",
   "execution_count": 125,
   "metadata": {},
   "outputs": [],
   "source": [
    "df_ = pd.read_csv('artigos_duplicados.csv')\n",
    "\n"
   ]
  },
  {
   "cell_type": "code",
   "execution_count": 126,
   "metadata": {},
   "outputs": [
    {
     "data": {
      "text/plain": [
       "38"
      ]
     },
     "execution_count": 126,
     "metadata": {},
     "output_type": "execute_result"
    }
   ],
   "source": [
    "len(df_)"
   ]
  },
  {
   "cell_type": "code",
   "execution_count": 38,
   "metadata": {},
   "outputs": [
    {
     "data": {
      "text/html": [
       "<div>\n",
       "<style scoped>\n",
       "    .dataframe tbody tr th:only-of-type {\n",
       "        vertical-align: middle;\n",
       "    }\n",
       "\n",
       "    .dataframe tbody tr th {\n",
       "        vertical-align: top;\n",
       "    }\n",
       "\n",
       "    .dataframe thead th {\n",
       "        text-align: right;\n",
       "    }\n",
       "</style>\n",
       "<table border=\"1\" class=\"dataframe\">\n",
       "  <thead>\n",
       "    <tr style=\"text-align: right;\">\n",
       "      <th></th>\n",
       "      <th>titulo</th>\n",
       "      <th>primeira_ocorrencia</th>\n",
       "      <th>encontrado_em</th>\n",
       "    </tr>\n",
       "  </thead>\n",
       "  <tbody>\n",
       "    <tr>\n",
       "      <th>1</th>\n",
       "      <td>Does Link Prediction Help Find Feature Interac...</td>\n",
       "      <td>Papers_IEEE</td>\n",
       "      <td>Papers_Scopus</td>\n",
       "    </tr>\n",
       "    <tr>\n",
       "      <th>2</th>\n",
       "      <td>Automated model-based performance analysis of ...</td>\n",
       "      <td>Papers_Scopus</td>\n",
       "      <td>Papers_Scopus</td>\n",
       "    </tr>\n",
       "    <tr>\n",
       "      <th>3</th>\n",
       "      <td>Calculon: a Methodology and Tool for High-Leve...</td>\n",
       "      <td>Papers_IEEE</td>\n",
       "      <td>Papers_Scopus</td>\n",
       "    </tr>\n",
       "    <tr>\n",
       "      <th>4</th>\n",
       "      <td>Evaluating Machine Learning Algorithms in Repr...</td>\n",
       "      <td>Papers_IEEE</td>\n",
       "      <td>Papers_Scopus</td>\n",
       "    </tr>\n",
       "    <tr>\n",
       "      <th>5</th>\n",
       "      <td>Black-Box Models for Non-Functional Properties...</td>\n",
       "      <td>Papers_IEEE</td>\n",
       "      <td>Papers_Scopus</td>\n",
       "    </tr>\n",
       "    <tr>\n",
       "      <th>6</th>\n",
       "      <td>Prediction Algorithms and Consecutive Estimati...</td>\n",
       "      <td>Papers_IEEE</td>\n",
       "      <td>Papers_Scopus</td>\n",
       "    </tr>\n",
       "    <tr>\n",
       "      <th>7</th>\n",
       "      <td>Transfer Learning Across Variants and Versions...</td>\n",
       "      <td>Papers_IEEE</td>\n",
       "      <td>Papers_Scopus</td>\n",
       "    </tr>\n",
       "    <tr>\n",
       "      <th>10</th>\n",
       "      <td>Learning by sampling: learning behavioral fami...</td>\n",
       "      <td>Papers_Scopus</td>\n",
       "      <td>Papers_SpringerLink</td>\n",
       "    </tr>\n",
       "    <tr>\n",
       "      <th>11</th>\n",
       "      <td>On the relation of control-flow and performanc...</td>\n",
       "      <td>Papers_Scopus</td>\n",
       "      <td>Papers_SpringerLink</td>\n",
       "    </tr>\n",
       "    <tr>\n",
       "      <th>12</th>\n",
       "      <td>Empirical assessment of generating adversarial...</td>\n",
       "      <td>Papers_Scopus</td>\n",
       "      <td>Papers_SpringerLink</td>\n",
       "    </tr>\n",
       "    <tr>\n",
       "      <th>13</th>\n",
       "      <td>Sampling configurations from software product ...</td>\n",
       "      <td>Papers_Scopus</td>\n",
       "      <td>Papers_SpringerLink</td>\n",
       "    </tr>\n",
       "    <tr>\n",
       "      <th>14</th>\n",
       "      <td>Data-driven software design with Constraint Or...</td>\n",
       "      <td>Papers_Scopus</td>\n",
       "      <td>Papers_SpringerLink</td>\n",
       "    </tr>\n",
       "    <tr>\n",
       "      <th>17</th>\n",
       "      <td>Tradeoffs in modeling performance of highly co...</td>\n",
       "      <td>Papers_SpringerLink</td>\n",
       "      <td>Papers_ACM</td>\n",
       "    </tr>\n",
       "    <tr>\n",
       "      <th>18</th>\n",
       "      <td>Using multi-objective search and machine learn...</td>\n",
       "      <td>Papers_SpringerLink</td>\n",
       "      <td>Papers_ACM</td>\n",
       "    </tr>\n",
       "    <tr>\n",
       "      <th>19</th>\n",
       "      <td>Generating attributed variability models for t...</td>\n",
       "      <td>Papers_Scopus</td>\n",
       "      <td>Papers_ACM</td>\n",
       "    </tr>\n",
       "    <tr>\n",
       "      <th>20</th>\n",
       "      <td>Performance Prediction for Hardware-Software C...</td>\n",
       "      <td>Papers_Scopus</td>\n",
       "      <td>Papers_ACM</td>\n",
       "    </tr>\n",
       "    <tr>\n",
       "      <th>21</th>\n",
       "      <td>On the relation of control-flow and performanc...</td>\n",
       "      <td>Papers_Scopus</td>\n",
       "      <td>Papers_ACM</td>\n",
       "    </tr>\n",
       "    <tr>\n",
       "      <th>22</th>\n",
       "      <td>HINNPerf: Hierarchical Interaction Neural Netw...</td>\n",
       "      <td>Papers_Scopus</td>\n",
       "      <td>Papers_ACM</td>\n",
       "    </tr>\n",
       "    <tr>\n",
       "      <th>23</th>\n",
       "      <td>A benchmark for active learning of variability...</td>\n",
       "      <td>Papers_Scopus</td>\n",
       "      <td>Papers_ACM</td>\n",
       "    </tr>\n",
       "    <tr>\n",
       "      <th>24</th>\n",
       "      <td>Improved Production Performance Through Manufa...</td>\n",
       "      <td>Papers_IEEE</td>\n",
       "      <td>Papers_ACM</td>\n",
       "    </tr>\n",
       "    <tr>\n",
       "      <th>25</th>\n",
       "      <td>Data-driven software design with Constraint Or...</td>\n",
       "      <td>Papers_Scopus</td>\n",
       "      <td>Papers_ACM</td>\n",
       "    </tr>\n",
       "    <tr>\n",
       "      <th>26</th>\n",
       "      <td>A Configurable Mathematical Model for Single-G...</td>\n",
       "      <td>Papers_Scopus</td>\n",
       "      <td>Papers_ACM</td>\n",
       "    </tr>\n",
       "    <tr>\n",
       "      <th>27</th>\n",
       "      <td>Evolvable SPL management with partial knowledg...</td>\n",
       "      <td>Papers_Scopus</td>\n",
       "      <td>Papers_ACM</td>\n",
       "    </tr>\n",
       "    <tr>\n",
       "      <th>31</th>\n",
       "      <td>Automated model-based performance analysis of ...</td>\n",
       "      <td>Papers_Scopus</td>\n",
       "      <td>Papers_ScienceDirect</td>\n",
       "    </tr>\n",
       "    <tr>\n",
       "      <th>32</th>\n",
       "      <td>Product Completion Time Prediction Using A Hyb...</td>\n",
       "      <td>Papers_ScienceDirect</td>\n",
       "      <td>Papers_ScienceDirect</td>\n",
       "    </tr>\n",
       "    <tr>\n",
       "      <th>33</th>\n",
       "      <td>Leveraging a combination of machine learning a...</td>\n",
       "      <td>Papers_Scopus</td>\n",
       "      <td>Papers_ScienceDirect</td>\n",
       "    </tr>\n",
       "    <tr>\n",
       "      <th>34</th>\n",
       "      <td>An extensible framework for software configura...</td>\n",
       "      <td>Papers_Scopus</td>\n",
       "      <td>Papers_ScienceDirect</td>\n",
       "    </tr>\n",
       "    <tr>\n",
       "      <th>35</th>\n",
       "      <td>Learning software configuration spaces: A syst...</td>\n",
       "      <td>Papers_Scopus</td>\n",
       "      <td>Papers_ScienceDirect</td>\n",
       "    </tr>\n",
       "  </tbody>\n",
       "</table>\n",
       "</div>"
      ],
      "text/plain": [
       "                                               titulo   primeira_ocorrencia  \\\n",
       "1   Does Link Prediction Help Find Feature Interac...           Papers_IEEE   \n",
       "2   Automated model-based performance analysis of ...         Papers_Scopus   \n",
       "3   Calculon: a Methodology and Tool for High-Leve...           Papers_IEEE   \n",
       "4   Evaluating Machine Learning Algorithms in Repr...           Papers_IEEE   \n",
       "5   Black-Box Models for Non-Functional Properties...           Papers_IEEE   \n",
       "6   Prediction Algorithms and Consecutive Estimati...           Papers_IEEE   \n",
       "7   Transfer Learning Across Variants and Versions...           Papers_IEEE   \n",
       "10  Learning by sampling: learning behavioral fami...         Papers_Scopus   \n",
       "11  On the relation of control-flow and performanc...         Papers_Scopus   \n",
       "12  Empirical assessment of generating adversarial...         Papers_Scopus   \n",
       "13  Sampling configurations from software product ...         Papers_Scopus   \n",
       "14  Data-driven software design with Constraint Or...         Papers_Scopus   \n",
       "17  Tradeoffs in modeling performance of highly co...   Papers_SpringerLink   \n",
       "18  Using multi-objective search and machine learn...   Papers_SpringerLink   \n",
       "19  Generating attributed variability models for t...         Papers_Scopus   \n",
       "20  Performance Prediction for Hardware-Software C...         Papers_Scopus   \n",
       "21  On the relation of control-flow and performanc...         Papers_Scopus   \n",
       "22  HINNPerf: Hierarchical Interaction Neural Netw...         Papers_Scopus   \n",
       "23  A benchmark for active learning of variability...         Papers_Scopus   \n",
       "24  Improved Production Performance Through Manufa...           Papers_IEEE   \n",
       "25  Data-driven software design with Constraint Or...         Papers_Scopus   \n",
       "26  A Configurable Mathematical Model for Single-G...         Papers_Scopus   \n",
       "27  Evolvable SPL management with partial knowledg...         Papers_Scopus   \n",
       "31  Automated model-based performance analysis of ...         Papers_Scopus   \n",
       "32  Product Completion Time Prediction Using A Hyb...  Papers_ScienceDirect   \n",
       "33  Leveraging a combination of machine learning a...         Papers_Scopus   \n",
       "34  An extensible framework for software configura...         Papers_Scopus   \n",
       "35  Learning software configuration spaces: A syst...         Papers_Scopus   \n",
       "\n",
       "           encontrado_em  \n",
       "1          Papers_Scopus  \n",
       "2          Papers_Scopus  \n",
       "3          Papers_Scopus  \n",
       "4          Papers_Scopus  \n",
       "5          Papers_Scopus  \n",
       "6          Papers_Scopus  \n",
       "7          Papers_Scopus  \n",
       "10   Papers_SpringerLink  \n",
       "11   Papers_SpringerLink  \n",
       "12   Papers_SpringerLink  \n",
       "13   Papers_SpringerLink  \n",
       "14   Papers_SpringerLink  \n",
       "17            Papers_ACM  \n",
       "18            Papers_ACM  \n",
       "19            Papers_ACM  \n",
       "20            Papers_ACM  \n",
       "21            Papers_ACM  \n",
       "22            Papers_ACM  \n",
       "23            Papers_ACM  \n",
       "24            Papers_ACM  \n",
       "25            Papers_ACM  \n",
       "26            Papers_ACM  \n",
       "27            Papers_ACM  \n",
       "31  Papers_ScienceDirect  \n",
       "32  Papers_ScienceDirect  \n",
       "33  Papers_ScienceDirect  \n",
       "34  Papers_ScienceDirect  \n",
       "35  Papers_ScienceDirect  "
      ]
     },
     "execution_count": 38,
     "metadata": {},
     "output_type": "execute_result"
    }
   ],
   "source": [
    "df_.dropna()"
   ]
  },
  {
   "cell_type": "code",
   "execution_count": null,
   "metadata": {},
   "outputs": [],
   "source": [
    "Calculon: a Methodology and Tool for High-Level Codesign of Systems and Large Language Models\n",
    "Calculon: a methodology and tool for high-level co-design of systems and large language models"
   ]
  }
 ],
 "metadata": {
  "kernelspec": {
   "display_name": "Python 3",
   "language": "python",
   "name": "python3"
  },
  "language_info": {
   "codemirror_mode": {
    "name": "ipython",
    "version": 3
   },
   "file_extension": ".py",
   "mimetype": "text/x-python",
   "name": "python",
   "nbconvert_exporter": "python",
   "pygments_lexer": "ipython3",
   "version": "3.10.12"
  }
 },
 "nbformat": 4,
 "nbformat_minor": 2
}
