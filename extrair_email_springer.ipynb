{
 "cells": [
  {
   "cell_type": "code",
   "execution_count": 1,
   "metadata": {},
   "outputs": [],
   "source": [
    "import time\n",
    "import csv\n",
    "from selenium import webdriver\n",
    "from selenium.webdriver.common.by import By\n",
    "from selenium.webdriver.chrome.service import Service\n",
    "from selenium.webdriver.support.ui import WebDriverWait\n",
    "from selenium.webdriver.support import expected_conditions as EC\n",
    "from selenium.common.exceptions import TimeoutException, NoSuchElementException\n",
    "import pandas as pd\n"
   ]
  },
  {
   "cell_type": "code",
   "execution_count": null,
   "metadata": {},
   "outputs": [],
   "source": [
    "options = webdriver.ChromeOptions()\n",
    "# options.add_argument(\"--headless\")  # retire o comentário para rodar sem abrir o navegador\n",
    "driver = webdriver.Chrome(options=options)\n",
    "wait = WebDriverWait(driver, 10)"
   ]
  },
  {
   "cell_type": "code",
   "execution_count": null,
   "metadata": {},
   "outputs": [],
   "source": [
    "def extrair_info_artigo(link):\n",
    "    driver.get(link)\n",
    "    time.sleep(2)\n",
    "    titulo = wait.until(EC.presence_of_element_located((By.CSS_SELECTOR, 'h1'))).text.strip()\n",
    "    autores = []\n",
    "    emails = []\n",
    "    autores_links = driver.find_elements(By.CSS_SELECTOR, '[data-test=\"author-name\"]')\n",
    "    for autor in autores_links:\n",
    "        nome = autor.text.strip()\n",
    "        if nome:\n",
    "            autores.append(nome)\n",
    "            if 'icon-eds-i-mail-medium' in autor.get_attribute('innerHTML'):\n",
    "                driver.execute_script(\"arguments[0].click();\", autor)\n",
    "                time.sleep(1)\n",
    "                email_tag = wait.until(EC.presence_of_element_located((By.CSS_SELECTOR, 'a[href^=\"mailto:\"]')))\n",
    "                email = email_tag.get_attribute('href').replace('mailto:', '')\n",
    "                if email and email not in emails:\n",
    "                    emails.append(email)\n",
    "\n",
    "    return [titulo, ', '.join(autores), ', '.join(emails)]"
   ]
  },
  {
   "cell_type": "code",
   "execution_count": null,
   "metadata": {},
   "outputs": [],
   "source": [
    "def buscar_links_artigos(limit=5):\n",
    "    driver.get(\"https://link.springer.com/search?query=&date=m24&journal=Automated+Software+Engineering\")\n",
    "    time.sleep(3)\n",
    "    artigos = driver.find_elements(By.CSS_SELECTOR, 'a.app-card-open__link')\n",
    "    print(f\"🔍 {len(artigos)} artigos encontrados.\")\n",
    "    links = []\n",
    "    for a in artigos:\n",
    "        href = a.get_attribute('href')\n",
    "        if href and '/article/' in href and href not in links:\n",
    "            links.append(href)\n",
    "        if len(links) >= limit:\n",
    "            break\n",
    "\n",
    "    return links"
   ]
  },
  {
   "cell_type": "code",
   "execution_count": null,
   "metadata": {},
   "outputs": [],
   "source": [
    "dados = []\n",
    "links = buscar_links_artigos(limit=5)\n",
    "\n",
    "for i, link in enumerate(links):\n",
    "    print(f\"📄 ({i+1}/{len(links)}) Coletando dados do artigo: {link}\")\n",
    "    dados.append(extrair_info_artigo(link))\n",
    "driver.quit()\n",
    "if dados:\n",
    "    with open('artigos_springer.csv', 'w', newline='', encoding='utf-8') as f:\n",
    "        writer = csv.writer(f)\n",
    "        writer.writerow(['Título', 'Autores', 'Emails'])\n",
    "        writer.writerows(dados)\n",
    "    print(\"✅ Dados salvos em artigos_springer.csv\")\n",
    "else:\n",
    "    print(\"⚠️ Nenhum dado foi extraído.\")"
   ]
  },
  {
   "cell_type": "code",
   "execution_count": 22,
   "metadata": {},
   "outputs": [],
   "source": [
    "df= pd.read_csv('dados_artigos_springer.csv')"
   ]
  },
  {
   "cell_type": "code",
   "execution_count": 23,
   "metadata": {},
   "outputs": [],
   "source": [
    "df['Link'] = links"
   ]
  },
  {
   "cell_type": "code",
   "execution_count": 26,
   "metadata": {},
   "outputs": [],
   "source": [
    "df.to_csv('dados_artigos_springer.csv')"
   ]
  }
 ],
 "metadata": {
  "kernelspec": {
   "display_name": "Python 3",
   "language": "python",
   "name": "python3"
  },
  "language_info": {
   "codemirror_mode": {
    "name": "ipython",
    "version": 3
   },
   "file_extension": ".py",
   "mimetype": "text/x-python",
   "name": "python",
   "nbconvert_exporter": "python",
   "pygments_lexer": "ipython3",
   "version": "3.10.12"
  }
 },
 "nbformat": 4,
 "nbformat_minor": 2
}
